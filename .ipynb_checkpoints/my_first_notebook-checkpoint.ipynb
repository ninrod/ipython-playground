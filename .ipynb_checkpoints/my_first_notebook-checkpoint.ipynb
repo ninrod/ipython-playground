{
 "cells": [
  {
   "cell_type": "code",
   "execution_count": 17,
   "metadata": {
    "scrolled": true
   },
   "outputs": [
    {
     "name": "stdout",
     "output_type": "stream",
     "text": [
      "            desc  valor\n",
      "0          grana     10\n",
      "1  investimentos    100\n",
      "2        imoveis     50\n",
      "3          carro     20\n",
      "total = 180\n"
     ]
    }
   ],
   "source": [
    "    import pandas as pd\n",
    "    dfs = pd.read_excel(\"valores.xlsx\", sheet_name=None)\n",
    "    print(dfs[\"main\"])\n",
    "    total = dfs['main']['valor'].sum()\n",
    "    print('total = ' + str(total))"
   ]
  },
  {
   "cell_type": "code",
   "execution_count": null,
   "metadata": {},
   "outputs": [],
   "source": []
  }
 ],
 "metadata": {
  "kernelspec": {
   "display_name": "Python 3",
   "language": "python",
   "name": "python3"
  },
  "language_info": {
   "codemirror_mode": {
    "name": "ipython",
    "version": 3
   },
   "file_extension": ".py",
   "mimetype": "text/x-python",
   "name": "python",
   "nbconvert_exporter": "python",
   "pygments_lexer": "ipython3",
   "version": "3.5.4"
  }
 },
 "nbformat": 4,
 "nbformat_minor": 2
}
