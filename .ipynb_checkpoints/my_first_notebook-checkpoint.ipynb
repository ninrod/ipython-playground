{
 "cells": [
  {
   "cell_type": "code",
   "execution_count": 17,
   "metadata": {
    "scrolled": true
   },
   "outputs": [
    {
     "name": "stdout",
     "output_type": "stream",
     "text": [
      "            desc  valor\n",
      "0          grana     10\n",
      "1  investimentos    100\n",
      "2        imoveis     50\n",
      "3          carro     20\n",
      "total = 180\n"
     ]
    }
   ],
   "source": [
    "    import pandas as pd\n",
    "    dfs = pd.read_excel(\"valores.xlsx\", sheet_name=None)\n",
    "    print(dfs[\"main\"])\n",
    "    total = dfs['main']['valor'].sum()\n",
    "    print('total = ' + str(total))"
   ]
  },
  {
   "cell_type": "code",
   "execution_count": 1,
   "metadata": {},
   "outputs": [
    {
     "name": "stdout",
     "output_type": "stream",
     "text": [
      "       desc  valor\n",
      "0    banana      1\n",
      "1  biscoito      2\n",
      "2      maçã      3\n",
      "3      alho      4\n",
      "4    cebola      5\n",
      "15\n",
      "          nome  idade\n",
      "0       filipe     35\n",
      "1      evelize     47\n",
      "2      juliana      3\n",
      "3  epaminondas     89\n",
      "4   marioneide     78\n",
      "252\n"
     ]
    }
   ],
   "source": [
    "  import pandas as pd\n",
    "  from pyexcel_ods import get_data\n",
    "  data = get_data(\"mercado.ods\")\n",
    "  df1 = pd.DataFrame(data=data['Sheet1'][1:], columns=['desc', 'valor'])\n",
    "  df2 = pd.DataFrame(data=data['Sheet2'][1:], columns=['nome', 'idade'])\n",
    "  print(df1)\n",
    "  print(df1['valor'].sum())\n",
    "  print(df2)\n",
    "  print(df2['idade'].sum())\n"
   ]
  },
  {
   "cell_type": "code",
   "execution_count": null,
   "metadata": {},
   "outputs": [],
   "source": []
  }
 ],
 "metadata": {
  "kernelspec": {
   "display_name": "Python 3",
   "language": "python",
   "name": "python3"
  },
  "language_info": {
   "codemirror_mode": {
    "name": "ipython",
    "version": 3
   },
   "file_extension": ".py",
   "mimetype": "text/x-python",
   "name": "python",
   "nbconvert_exporter": "python",
   "pygments_lexer": "ipython3",
   "version": "3.5.4"
  }
 },
 "nbformat": 4,
 "nbformat_minor": 2
}
